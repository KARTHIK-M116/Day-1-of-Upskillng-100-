{
  "nbformat": 4,
  "nbformat_minor": 0,
  "metadata": {
    "colab": {
      "provenance": []
    },
    "kernelspec": {
      "name": "python3",
      "display_name": "Python 3"
    },
    "language_info": {
      "name": "python"
    }
  },
  "cells": [
    {
      "cell_type": "code",
      "execution_count": 1,
      "metadata": {
        "colab": {
          "base_uri": "https://localhost:8080/"
        },
        "id": "HmpV48mZGtg1",
        "outputId": "9409cddb-1d2b-4f9c-e59e-f43a10ce488e"
      },
      "outputs": [
        {
          "output_type": "stream",
          "name": "stdout",
          "text": [
            "Welcome to the band name generator!!\n",
            "What's the name of the city you grew up in?\n",
            "Coimbatore\n",
            "What's the name of your pet?\n",
            "Mani\n",
            "Your band name could be Coimbatore Mani\n"
          ]
        }
      ],
      "source": [
        "print(\"Welcome to the band name generator!!\")\n",
        "city = input(\"What's the name of the city you grew up in?\\n\")\n",
        "petname = input(\"What's the name of your pet?\\n\")\n",
        "print(\"Your band name could be \" + city + \" \" + petname)"
      ]
    }
  ]
}